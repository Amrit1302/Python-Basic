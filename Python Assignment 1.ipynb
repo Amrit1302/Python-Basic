{
 "cells": [
  {
   "cell_type": "raw",
   "id": "0e04aec5-2e96-480a-8961-777ef15d1448",
   "metadata": {},
   "source": [
    "Q1. Explain the key features of Python that make it a popular choice for programming.\n",
    "Ans. Below are the key features of python that make it a popular choice for programming\n",
    "    a.\tPython has a lot of libraries.\n",
    "\tb. \tEase of Learning\n",
    "    c.\tVersatility\n",
    "    d.\tEasily Readable\n",
    "    e.\tEasy to Coding\n",
    "    f.\tHuge Active Community\n",
    "    g.\tFree and open source"
   ]
  },
  {
   "cell_type": "raw",
   "id": "716574e1-6df2-4263-8d1f-560d9a22635d",
   "metadata": {},
   "source": [
    "Q2. Describe the role of predefined keywords in Python and provide examples of how they are used in a program.\n",
    "Ans. Python Keywords are some predefined and reserved words in Python that have special Meanings and purpose. Keywords are used to \n",
    "    define the syntax of the coding. The keyword cannot be used as an identifier, function, or variable name."
   ]
  },
  {
   "cell_type": "code",
   "execution_count": 1,
   "id": "d446f70d-1b7a-49f4-9916-8e24e3755bb4",
   "metadata": {},
   "outputs": [
    {
     "name": "stdout",
     "output_type": "stream",
     "text": [
      "\n",
      "Here is a list of the Python keywords.  Enter any keyword to get more help.\n",
      "\n",
      "False               class               from                or\n",
      "None                continue            global              pass\n",
      "True                def                 if                  raise\n",
      "and                 del                 import              return\n",
      "as                  elif                in                  try\n",
      "assert              else                is                  while\n",
      "async               except              lambda              with\n",
      "await               finally             nonlocal            yield\n",
      "break               for                 not                 \n",
      "\n"
     ]
    }
   ],
   "source": [
    "help(\"keywords\")"
   ]
  },
  {
   "cell_type": "code",
   "execution_count": 3,
   "id": "7868f438-279a-4fd8-a5bd-4161c580dec8",
   "metadata": {},
   "outputs": [
    {
     "name": "stdout",
     "output_type": "stream",
     "text": [
      "Greater\n"
     ]
    }
   ],
   "source": [
    "if 3 > 2:\n",
    "    print(\"Greater\")"
   ]
  },
  {
   "cell_type": "code",
   "execution_count": 4,
   "id": "86cce2c1-ae84-4915-9743-b3cd08a55967",
   "metadata": {},
   "outputs": [
    {
     "name": "stdout",
     "output_type": "stream",
     "text": [
      "* \n",
      "* * \n",
      "* * * \n",
      "* * * * \n",
      "* * * * * \n",
      "* * * * * * \n",
      "* * * * * * * \n"
     ]
    }
   ],
   "source": [
    "for i in range(7):\n",
    "    for j in range(i+1):\n",
    "        print(\"*\", end = \" \")\n",
    "    print()"
   ]
  },
  {
   "cell_type": "raw",
   "id": "83c7c861-682b-473f-8198-4d0647b39f81",
   "metadata": {},
   "source": [
    "Q3. Compare and contrast mutable and immutable objects in Python with examples.\n",
    "Ans. Mutable objects in Python are those that can be changed after they are created, like lists or dictionaries. Immutable objects, \n",
    "    on the other hand, cannot be changed after they are created, such as strings, integers, or tuples.\n",
    "    Mutable Example: Lists, Dicts, Sets, User-Defined Classes, Dictionaries, etc.\n",
    "    Immutable Example: int, float, bool, string, Unicode, tuple, Numbers, etc."
   ]
  },
  {
   "cell_type": "code",
   "execution_count": 5,
   "id": "5acbb4ce-d1b5-48d2-85e4-19778cb0f361",
   "metadata": {},
   "outputs": [
    {
     "ename": "TypeError",
     "evalue": "'str' object does not support item assignment",
     "output_type": "error",
     "traceback": [
      "\u001b[0;31m---------------------------------------------------------------------------\u001b[0m",
      "\u001b[0;31mTypeError\u001b[0m                                 Traceback (most recent call last)",
      "Cell \u001b[0;32mIn[5], line 3\u001b[0m\n\u001b[1;32m      1\u001b[0m \u001b[38;5;66;03m#Immutable Example\u001b[39;00m\n\u001b[1;32m      2\u001b[0m a \u001b[38;5;241m=\u001b[39m \u001b[38;5;124m\"\u001b[39m\u001b[38;5;124mpwskills\u001b[39m\u001b[38;5;124m\"\u001b[39m\n\u001b[0;32m----> 3\u001b[0m \u001b[43ma\u001b[49m\u001b[43m[\u001b[49m\u001b[38;5;241;43m0\u001b[39;49m\u001b[43m]\u001b[49m \u001b[38;5;241m=\u001b[39m \u001b[38;5;124m\"\u001b[39m\u001b[38;5;124mi\u001b[39m\u001b[38;5;124m\"\u001b[39m\n\u001b[1;32m      4\u001b[0m a\n",
      "\u001b[0;31mTypeError\u001b[0m: 'str' object does not support item assignment"
     ]
    }
   ],
   "source": [
    "#Immutable Example\n",
    "a = \"pwskills\"\n",
    "a[0] = \"i\"\n",
    "a"
   ]
  },
  {
   "cell_type": "code",
   "execution_count": 17,
   "id": "762825af-ed8e-4f66-b54a-586bdaf675b9",
   "metadata": {},
   "outputs": [
    {
     "data": {
      "text/plain": [
       "[1, 2, 2.3, (2+3j), 'Amrit']"
      ]
     },
     "execution_count": 17,
     "metadata": {},
     "output_type": "execute_result"
    }
   ],
   "source": [
    "#Mutable Example\n",
    "list_count = [1, 2, 2.3, 2+3j, \"Amrit\"]\n",
    "list_count"
   ]
  },
  {
   "cell_type": "code",
   "execution_count": 21,
   "id": "2e6caf72-8f41-4767-8744-8b8c69bb296a",
   "metadata": {},
   "outputs": [
    {
     "data": {
      "text/plain": [
       "[1, 2, 4.3, (2+3j), 'Pwskills']"
      ]
     },
     "execution_count": 21,
     "metadata": {},
     "output_type": "execute_result"
    }
   ],
   "source": [
    "list_count[4] = \"Pwskills\"\n",
    "list_count"
   ]
  },
  {
   "cell_type": "raw",
   "id": "6092c0c5-7e93-4cf5-a79e-bec5924a4967",
   "metadata": {},
   "source": [
    "Q4. Discuss the different types of operators in Python and provide examples of how they are used.\n",
    "Ans. Operators are special keywords to perform operators, manage and computation.\n",
    "    #Arithmetic Operators\n",
    "    #Comparison Operators\n",
    "    #Assignment Operators\n",
    "    #Logical Operators\n",
    "    #Bitwise Operators\n",
    "    #Membership Operators\n",
    "    #Identity Operators"
   ]
  },
  {
   "cell_type": "code",
   "execution_count": 14,
   "id": "f15a6c13-d3db-4401-98fa-d2d4cda679f4",
   "metadata": {},
   "outputs": [
    {
     "data": {
      "text/plain": [
       "31"
      ]
     },
     "execution_count": 14,
     "metadata": {},
     "output_type": "execute_result"
    }
   ],
   "source": [
    "#Arithmetic Operators\n",
    "a = 21\n",
    "b = 10\n",
    "a + b"
   ]
  },
  {
   "cell_type": "code",
   "execution_count": 15,
   "id": "0c70f0ba-ad22-456c-908e-c8de1e84bf94",
   "metadata": {},
   "outputs": [
    {
     "data": {
      "text/plain": [
       "False"
      ]
     },
     "execution_count": 15,
     "metadata": {},
     "output_type": "execute_result"
    }
   ],
   "source": [
    "#Comparison Operators\n",
    "a = 21\n",
    "b = 10\n",
    "a == b"
   ]
  },
  {
   "cell_type": "code",
   "execution_count": 18,
   "id": "fbebcd5e-f854-41f1-8f9d-bc7a2a8695a8",
   "metadata": {},
   "outputs": [
    {
     "data": {
      "text/plain": [
       "26"
      ]
     },
     "execution_count": 18,
     "metadata": {},
     "output_type": "execute_result"
    }
   ],
   "source": [
    "#Assignment Operators\n",
    "a = 21\n",
    "a += 5\n",
    "a"
   ]
  },
  {
   "cell_type": "code",
   "execution_count": 20,
   "id": "146cfcf1-3be8-4dcd-8123-b0b764927807",
   "metadata": {},
   "outputs": [
    {
     "name": "stdout",
     "output_type": "stream",
     "text": [
      "Both x and y are within the specified range\n"
     ]
    }
   ],
   "source": [
    "#Logical Operators\n",
    "x = 5\n",
    "y = 10\n",
    "if x > 3 and y < 15:\n",
    "  print(\"Both x and y are within the specified range\")"
   ]
  },
  {
   "cell_type": "code",
   "execution_count": 21,
   "id": "e8999df5-052f-4227-81a2-67d440c569f4",
   "metadata": {},
   "outputs": [
    {
     "name": "stdout",
     "output_type": "stream",
     "text": [
      "Yes, banana is a fruit!\n"
     ]
    }
   ],
   "source": [
    "#Membership Operators\n",
    "fruits = [\"apple\", \"banana\", \"cherry\"]\n",
    "if \"banana\" in fruits:\n",
    "    print(\"Yes, banana is a fruit!\")\n",
    "else:\n",
    "    print(\"No, banana is not a fruit!\")"
   ]
  },
  {
   "cell_type": "code",
   "execution_count": 24,
   "id": "24e95887-11e0-4594-9de5-fd087fd7680c",
   "metadata": {},
   "outputs": [
    {
     "name": "stdout",
     "output_type": "stream",
     "text": [
      "x and y are not the same object\n"
     ]
    }
   ],
   "source": [
    "#Identity Operators\n",
    "x = 10\n",
    "y = 5\n",
    "if x is y:\n",
    "    print(\"x and y are the same object\")\n",
    "else:\n",
    "    print(\"x and y are not the same object\")"
   ]
  },
  {
   "cell_type": "raw",
   "id": "29b79766-3524-4643-88b3-0aaf5ff9a750",
   "metadata": {},
   "source": [
    "Q5. Explain the concept of type casting in Python with examples.\n",
    "Ans. Python automatically converts one data type to another data type. This process doesn't need any user involvement Python \n",
    "    promotes the conversion of lower data type, for example, integer to higher data type says float to avoid data loss. This type of \n",
    "    conversion or type casting is called UpCasting."
   ]
  },
  {
   "cell_type": "code",
   "execution_count": 22,
   "id": "7fa9af5c-b8f5-487c-9aa8-ac729a2bd36f",
   "metadata": {},
   "outputs": [
    {
     "name": "stdout",
     "output_type": "stream",
     "text": [
      "5.0\n",
      "<class 'float'>\n"
     ]
    }
   ],
   "source": [
    "# type Casting \n",
    "\n",
    "# int variable\n",
    "a = 5\n",
    "\n",
    "# typecast to float\n",
    "n = float(a)\n",
    "\n",
    "print(n)\n",
    "print(type(n))"
   ]
  },
  {
   "cell_type": "code",
   "execution_count": 23,
   "id": "4f584feb-7b5f-4470-a615-0208708d8483",
   "metadata": {},
   "outputs": [
    {
     "data": {
      "text/plain": [
       "str"
      ]
     },
     "execution_count": 23,
     "metadata": {},
     "output_type": "execute_result"
    }
   ],
   "source": [
    "a = \"1234\"\n",
    "type(a)"
   ]
  },
  {
   "cell_type": "code",
   "execution_count": 29,
   "id": "7d545b87-6ba1-4a70-9fee-27508b455604",
   "metadata": {},
   "outputs": [
    {
     "data": {
      "text/plain": [
       "1234"
      ]
     },
     "execution_count": 29,
     "metadata": {},
     "output_type": "execute_result"
    }
   ],
   "source": [
    "n = int(a)\n",
    "n"
   ]
  },
  {
   "cell_type": "code",
   "execution_count": 28,
   "id": "1a196fd9-cc2c-4ea7-b54c-d4f8d9288c67",
   "metadata": {},
   "outputs": [
    {
     "data": {
      "text/plain": [
       "int"
      ]
     },
     "execution_count": 28,
     "metadata": {},
     "output_type": "execute_result"
    }
   ],
   "source": [
    "type(n)"
   ]
  },
  {
   "cell_type": "raw",
   "id": "603995ef-457e-4e7d-8760-434319c88653",
   "metadata": {},
   "source": [
    "Q6. How do conditional statements work in Python? Illustrate with examples.\n",
    "Ans. Conditional statement helps us to code decisions based on some preconditions\n",
    "    #if\n",
    "    #if else\n",
    "    #if elif else\n",
    "    #nested if else"
   ]
  },
  {
   "cell_type": "code",
   "execution_count": 1,
   "id": "e6e305a7-ae6b-4c38-ab26-cbac922cad91",
   "metadata": {},
   "outputs": [
    {
     "name": "stdout",
     "output_type": "stream",
     "text": [
      "The number is greater than 0\n"
     ]
    }
   ],
   "source": [
    "#if\n",
    "a = 100\n",
    "if a > 0:\n",
    "    print(\"The number is greater than 0\")"
   ]
  },
  {
   "cell_type": "code",
   "execution_count": 3,
   "id": "b3923828-f455-4b66-bdf7-2ef8af97b9fa",
   "metadata": {},
   "outputs": [
    {
     "name": "stdout",
     "output_type": "stream",
     "text": [
      "I will play cricket\n"
     ]
    }
   ],
   "source": [
    "#if else\n",
    "weather = \"sunny\"\n",
    "if weather == \"sunny\":\n",
    "    print(\"I will play cricket\")\n",
    "else:\n",
    "    print(\"I will watch TV\")"
   ]
  },
  {
   "cell_type": "code",
   "execution_count": 5,
   "id": "2577b883-7762-4553-b626-5d7866acb9d1",
   "metadata": {},
   "outputs": [
    {
     "name": "stdout",
     "output_type": "stream",
     "text": [
      "This is less than 500\n"
     ]
    }
   ],
   "source": [
    "#if elif else\n",
    "a = 300\n",
    "if a > 500:\n",
    "    print(\"This is greater than 500\")\n",
    "elif a < 500:\n",
    "    print(\"This is less than 500\")\n",
    "else:\n",
    "    print(\"This is equal to 500\")"
   ]
  },
  {
   "cell_type": "code",
   "execution_count": 6,
   "id": "6b1d507f-9410-415b-814c-de5f150ad3c2",
   "metadata": {},
   "outputs": [
    {
     "name": "stdout",
     "output_type": "stream",
     "text": [
      "x is not greater than 5\n"
     ]
    }
   ],
   "source": [
    "#nested if else\n",
    "x = 1\n",
    "y = 6\n",
    "if x > 5:\n",
    "    if y > 5:\n",
    "        print(\"Both x and y is greater than 5\")\n",
    "    else:\n",
    "        print(\"x is greater than 5 but y is less than 5\")\n",
    "else:\n",
    "    print(\"x is not greater than 5\")"
   ]
  },
  {
   "cell_type": "raw",
   "id": "c41d8184-fcf6-4968-ae02-b432f5a95f2a",
   "metadata": {},
   "source": [
    "Q7. Describe the different types of loops in Python and their use cases with examples.\n",
    "Ans. Loop statement allows us to execute a block of code repetedly. Two types are loop here, a) while loop & b) for loop"
   ]
  },
  {
   "cell_type": "code",
   "execution_count": 7,
   "id": "2b505301-0f3e-47cb-a751-84d0b16f0ed7",
   "metadata": {},
   "outputs": [
    {
     "name": "stdout",
     "output_type": "stream",
     "text": [
      "1\n",
      "2\n",
      "3\n",
      "4\n",
      "5\n",
      "6\n"
     ]
    }
   ],
   "source": [
    "n = 7\n",
    "i = 1\n",
    "while i <n:\n",
    "    print(i)\n",
    "    i = i+1"
   ]
  },
  {
   "cell_type": "code",
   "execution_count": 8,
   "id": "e4a475fc-b0f9-4a4d-af7c-bd182c6a5341",
   "metadata": {},
   "outputs": [
    {
     "name": "stdout",
     "output_type": "stream",
     "text": [
      "5\n",
      "4\n",
      "3\n",
      "2\n",
      "1\n"
     ]
    }
   ],
   "source": [
    "count = 5\n",
    "while count > 0:\n",
    "    print(count)\n",
    "    count = count - 1"
   ]
  },
  {
   "cell_type": "code",
   "execution_count": 13,
   "id": "b76c56d5-8c3a-47d1-a5a3-caeff95cad88",
   "metadata": {},
   "outputs": [
    {
     "name": "stdout",
     "output_type": "stream",
     "text": [
      "1\n",
      "2\n",
      "Amrit\n",
      "pwskills\n"
     ]
    }
   ],
   "source": [
    "#for loop\n",
    "l = [1,2, \"Amrit\", \"pwskills\"]\n",
    "for i in l:\n",
    "    print(i)"
   ]
  },
  {
   "cell_type": "code",
   "execution_count": null,
   "id": "c718e590-36f8-417c-8d4f-694230a0e1fa",
   "metadata": {},
   "outputs": [],
   "source": []
  }
 ],
 "metadata": {
  "kernelspec": {
   "display_name": "Python 3 (ipykernel)",
   "language": "python",
   "name": "python3"
  },
  "language_info": {
   "codemirror_mode": {
    "name": "ipython",
    "version": 3
   },
   "file_extension": ".py",
   "mimetype": "text/x-python",
   "name": "python",
   "nbconvert_exporter": "python",
   "pygments_lexer": "ipython3",
   "version": "3.10.8"
  }
 },
 "nbformat": 4,
 "nbformat_minor": 5
}
