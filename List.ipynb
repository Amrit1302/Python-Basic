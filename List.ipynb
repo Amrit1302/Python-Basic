{
 "cells": [
  {
   "cell_type": "code",
   "execution_count": 1,
   "id": "a56c5ac1-dfc4-4f20-96d8-2eed33048a7b",
   "metadata": {},
   "outputs": [],
   "source": [
    "#List are ordered collection of items\n",
    "#[]\n",
    "#List is like a shopping bag which can store everthing\n",
    "#Can store any data type"
   ]
  },
  {
   "cell_type": "code",
   "execution_count": 2,
   "id": "c98e5a2a-0b93-4c2c-9171-0168a3865e20",
   "metadata": {},
   "outputs": [
    {
     "data": {
      "text/plain": [
       "list"
      ]
     },
     "execution_count": 2,
     "metadata": {},
     "output_type": "execute_result"
    }
   ],
   "source": [
    "type([])"
   ]
  },
  {
   "cell_type": "code",
   "execution_count": 3,
   "id": "9ab04535-5432-4b5c-a12c-c0504ad407e1",
   "metadata": {},
   "outputs": [],
   "source": [
    "grocery_list = [\"Milk\", \"Orange\", 1, 2.2, True, 3+5j]"
   ]
  },
  {
   "cell_type": "code",
   "execution_count": 4,
   "id": "b16f0a49-2129-4cd3-b20d-5ad67fc2c7a8",
   "metadata": {},
   "outputs": [
    {
     "data": {
      "text/plain": [
       "list"
      ]
     },
     "execution_count": 4,
     "metadata": {},
     "output_type": "execute_result"
    }
   ],
   "source": [
    "type(grocery_list)"
   ]
  },
  {
   "cell_type": "code",
   "execution_count": 5,
   "id": "a8bfe833-27a3-4ece-b43d-d050064101a6",
   "metadata": {},
   "outputs": [
    {
     "data": {
      "text/plain": [
       "'Milk'"
      ]
     },
     "execution_count": 5,
     "metadata": {},
     "output_type": "execute_result"
    }
   ],
   "source": [
    "#Lists are mutable\n",
    "grocery_list[0]"
   ]
  },
  {
   "cell_type": "code",
   "execution_count": 6,
   "id": "fc7b1d86-470e-4304-9a28-b7289b2179b4",
   "metadata": {},
   "outputs": [
    {
     "data": {
      "text/plain": [
       "(3+5j)"
      ]
     },
     "execution_count": 6,
     "metadata": {},
     "output_type": "execute_result"
    }
   ],
   "source": [
    "grocery_list[-1]"
   ]
  },
  {
   "cell_type": "code",
   "execution_count": 7,
   "id": "8949fd4b-ad09-48bd-b3ed-7f3e5a1287dc",
   "metadata": {},
   "outputs": [
    {
     "data": {
      "text/plain": [
       "['Orange', 1, 2.2, True, (3+5j)]"
      ]
     },
     "execution_count": 7,
     "metadata": {},
     "output_type": "execute_result"
    }
   ],
   "source": [
    "grocery_list[1:]"
   ]
  },
  {
   "cell_type": "code",
   "execution_count": 8,
   "id": "7dcbfcc2-f4d2-49a5-9713-54a2f0e2affb",
   "metadata": {},
   "outputs": [
    {
     "data": {
      "text/plain": [
       "['Orange', 1, 2.2]"
      ]
     },
     "execution_count": 8,
     "metadata": {},
     "output_type": "execute_result"
    }
   ],
   "source": [
    "grocery_list[1:4]"
   ]
  },
  {
   "cell_type": "code",
   "execution_count": 9,
   "id": "0cc7341b-f550-4faf-9925-096b54c5437e",
   "metadata": {},
   "outputs": [
    {
     "data": {
      "text/plain": [
       "['Action2', 'Comedy', 'Thriller']"
      ]
     },
     "execution_count": 9,
     "metadata": {},
     "output_type": "execute_result"
    }
   ],
   "source": [
    "movies = [\"Action1\", \"Action2\", \"Comedy\", \"Thriller\"]\n",
    "movies[1:]"
   ]
  },
  {
   "cell_type": "code",
   "execution_count": 12,
   "id": "6b1367fd-2a73-49f4-b39a-d879f2d33180",
   "metadata": {},
   "outputs": [
    {
     "data": {
      "text/plain": [
       "['Action1', 'Action2', 'Comedy']"
      ]
     },
     "execution_count": 12,
     "metadata": {},
     "output_type": "execute_result"
    }
   ],
   "source": [
    "movies[0:3]"
   ]
  },
  {
   "cell_type": "code",
   "execution_count": 11,
   "id": "309f3979-1eda-4ae5-a346-51b5714ae49a",
   "metadata": {},
   "outputs": [
    {
     "data": {
      "text/plain": [
       "['Action1', 'Action2', 'Comedy', 'Thriller']"
      ]
     },
     "execution_count": 11,
     "metadata": {},
     "output_type": "execute_result"
    }
   ],
   "source": [
    "movies[0:]"
   ]
  },
  {
   "cell_type": "code",
   "execution_count": 13,
   "id": "5ae97650-1cb2-4f67-a0bd-c86c67ca46b6",
   "metadata": {},
   "outputs": [
    {
     "data": {
      "text/plain": [
       "'index'"
      ]
     },
     "execution_count": 13,
     "metadata": {},
     "output_type": "execute_result"
    }
   ],
   "source": [
    "pages = [\"Title page\", \"chap1\", \"chap2\", \"conclusion\", \"index\"]\n",
    "pages[-1]"
   ]
  },
  {
   "cell_type": "code",
   "execution_count": 14,
   "id": "fa4b11b0-39c5-441e-ada5-3baed1fd236a",
   "metadata": {},
   "outputs": [
    {
     "data": {
      "text/plain": [
       "'conclusion'"
      ]
     },
     "execution_count": 14,
     "metadata": {},
     "output_type": "execute_result"
    }
   ],
   "source": [
    "pages[-2]"
   ]
  },
  {
   "cell_type": "code",
   "execution_count": 16,
   "id": "949c3953-b150-4f47-b6d9-6092bb1d6594",
   "metadata": {},
   "outputs": [
    {
     "data": {
      "text/plain": [
       "'Ranjan'"
      ]
     },
     "execution_count": 16,
     "metadata": {},
     "output_type": "execute_result"
    }
   ],
   "source": [
    "queue = [\"Amrit\", \"Bijay\", \"Sanjay\", \"Ranjan\"]\n",
    "queue[-1]"
   ]
  },
  {
   "cell_type": "code",
   "execution_count": 17,
   "id": "2f305d36-8a17-4d9a-a3c2-8fa86caf15f4",
   "metadata": {},
   "outputs": [
    {
     "data": {
      "text/plain": [
       "'Sanjay'"
      ]
     },
     "execution_count": 17,
     "metadata": {},
     "output_type": "execute_result"
    }
   ],
   "source": [
    "queue[-2]"
   ]
  },
  {
   "cell_type": "code",
   "execution_count": 18,
   "id": "2a3e4565-f426-410e-9d9b-99d3ca26fb8d",
   "metadata": {},
   "outputs": [
    {
     "data": {
      "text/plain": [
       "['Apple', 'Orange']"
      ]
     },
     "execution_count": 18,
     "metadata": {},
     "output_type": "execute_result"
    }
   ],
   "source": [
    "lis = [\"Apple\", \"Orange\"]\n",
    "lis"
   ]
  },
  {
   "cell_type": "code",
   "execution_count": 19,
   "id": "4218d4b8-11b3-4f84-8e24-0109073d7b78",
   "metadata": {},
   "outputs": [
    {
     "data": {
      "text/plain": [
       "['Apple', 'Orange', 'Banana']"
      ]
     },
     "execution_count": 19,
     "metadata": {},
     "output_type": "execute_result"
    }
   ],
   "source": [
    "lis.append(\"Banana\")\n",
    "lis"
   ]
  },
  {
   "cell_type": "code",
   "execution_count": 20,
   "id": "393054eb-0eb0-45df-8404-df5a5402fd60",
   "metadata": {},
   "outputs": [],
   "source": [
    "#use cases\n",
    "playlist = []\n",
    "playlist.append(\"sare jahan se acha\")\n",
    "playlist.append(\"Ae mere watan ke logo\")\n",
    "playlist.append(\"Tujhe dekha toh\")"
   ]
  },
  {
   "cell_type": "code",
   "execution_count": 21,
   "id": "4064a11f-d99b-4326-94d3-cef200bff213",
   "metadata": {},
   "outputs": [
    {
     "data": {
      "text/plain": [
       "['sare jahan se acha', 'Ae mere watan ke logo', 'Tujhe dekha toh']"
      ]
     },
     "execution_count": 21,
     "metadata": {},
     "output_type": "execute_result"
    }
   ],
   "source": [
    "playlist"
   ]
  },
  {
   "cell_type": "code",
   "execution_count": 22,
   "id": "5ed878ff-051e-4a4a-8031-5fff1021f3e2",
   "metadata": {},
   "outputs": [],
   "source": [
    "bookshelf = []\n",
    "bookshelf.append(\"Book1\")\n",
    "bookshelf.append(\"Book2\")"
   ]
  },
  {
   "cell_type": "code",
   "execution_count": 23,
   "id": "795c4a67-4b3e-4839-bba3-3c0d24af0e47",
   "metadata": {},
   "outputs": [
    {
     "data": {
      "text/plain": [
       "['Book1', 'Book2']"
      ]
     },
     "execution_count": 23,
     "metadata": {},
     "output_type": "execute_result"
    }
   ],
   "source": [
    "bookshelf"
   ]
  },
  {
   "cell_type": "code",
   "execution_count": 24,
   "id": "2b97cb2b-f917-46c8-8508-cbbbb83a99dd",
   "metadata": {},
   "outputs": [
    {
     "data": {
      "text/plain": [
       "['Apple', 'Orange', 'Banana']"
      ]
     },
     "execution_count": 24,
     "metadata": {},
     "output_type": "execute_result"
    }
   ],
   "source": [
    "lis"
   ]
  },
  {
   "cell_type": "code",
   "execution_count": 25,
   "id": "0290db23-3f0d-41b5-8b8c-817bc0b36961",
   "metadata": {},
   "outputs": [
    {
     "data": {
      "text/plain": [
       "'Apple'"
      ]
     },
     "execution_count": 25,
     "metadata": {},
     "output_type": "execute_result"
    }
   ],
   "source": [
    "#List is mutable\n",
    "lis[0]"
   ]
  },
  {
   "cell_type": "code",
   "execution_count": 26,
   "id": "f989da9b-54a9-48fd-a816-e62d5cbcd11f",
   "metadata": {},
   "outputs": [],
   "source": [
    "lis[0] = \"Mango\""
   ]
  },
  {
   "cell_type": "code",
   "execution_count": 27,
   "id": "7614db15-d2b1-45fd-b3af-11abe9ffdb5e",
   "metadata": {},
   "outputs": [
    {
     "data": {
      "text/plain": [
       "['Mango', 'Orange', 'Banana']"
      ]
     },
     "execution_count": 27,
     "metadata": {},
     "output_type": "execute_result"
    }
   ],
   "source": [
    "lis"
   ]
  },
  {
   "cell_type": "code",
   "execution_count": 30,
   "id": "d3497e7a-9604-4cea-a744-2005b85933bd",
   "metadata": {},
   "outputs": [],
   "source": [
    "lis.append(\"apple\")"
   ]
  },
  {
   "cell_type": "code",
   "execution_count": 31,
   "id": "d6f5a742-f9c5-4647-bae1-4e7ff168544b",
   "metadata": {},
   "outputs": [
    {
     "data": {
      "text/plain": [
       "['Mango', 'Orange', 'Banana', 'apple', 'apple']"
      ]
     },
     "execution_count": 31,
     "metadata": {},
     "output_type": "execute_result"
    }
   ],
   "source": [
    "lis"
   ]
  },
  {
   "cell_type": "code",
   "execution_count": 32,
   "id": "0a500f0b-9701-44e9-8ea0-55c897d84893",
   "metadata": {},
   "outputs": [],
   "source": [
    "lis.insert(1, \"potato\") #Insert object before index."
   ]
  },
  {
   "cell_type": "code",
   "execution_count": 33,
   "id": "b92a49cc-5839-4e70-b718-e38ced02edd0",
   "metadata": {},
   "outputs": [
    {
     "data": {
      "text/plain": [
       "['Mango', 'potato', 'Orange', 'Banana', 'apple', 'apple']"
      ]
     },
     "execution_count": 33,
     "metadata": {},
     "output_type": "execute_result"
    }
   ],
   "source": [
    "lis"
   ]
  },
  {
   "cell_type": "code",
   "execution_count": 34,
   "id": "1321baea-609a-4ef6-816f-3448ee1bc1af",
   "metadata": {},
   "outputs": [],
   "source": [
    "#use case\n",
    "bus_seat = [\"Ajay\", \"Aman\", \"Kishan\"]\n",
    "bus_seat.insert(2,\"Khushi\")"
   ]
  },
  {
   "cell_type": "code",
   "execution_count": 35,
   "id": "7f64d977-aa84-45f9-9a3c-408fe74d18b6",
   "metadata": {},
   "outputs": [
    {
     "data": {
      "text/plain": [
       "['Ajay', 'Aman', 'Khushi', 'Kishan']"
      ]
     },
     "execution_count": 35,
     "metadata": {},
     "output_type": "execute_result"
    }
   ],
   "source": [
    "bus_seat"
   ]
  },
  {
   "cell_type": "code",
   "execution_count": 36,
   "id": "1742032b-40f6-4f6a-a5a6-35ebb1ea362b",
   "metadata": {},
   "outputs": [],
   "source": [
    "#extend  >>> used to append elements from another list\n",
    "my_list = [\"Apple\", \"Banana\", \"Orange\"]\n",
    "brothers_list = [\"Brinjal\", \"Potato\"]\n",
    "my_list.extend(brothers_list)"
   ]
  },
  {
   "cell_type": "code",
   "execution_count": 37,
   "id": "07b30068-ec71-4562-baca-f05d0fdc8afc",
   "metadata": {},
   "outputs": [
    {
     "data": {
      "text/plain": [
       "['Apple', 'Banana', 'Orange', 'Brinjal', 'Potato']"
      ]
     },
     "execution_count": 37,
     "metadata": {},
     "output_type": "execute_result"
    }
   ],
   "source": [
    "my_list"
   ]
  },
  {
   "cell_type": "code",
   "execution_count": 38,
   "id": "cab360eb-862e-4468-84e9-52fcdadf3e5c",
   "metadata": {},
   "outputs": [],
   "source": [
    "my_list = [\"Apple\", \"Banana\", \"Orange\"]\n",
    "brothers_list = [\"Brinjal\", \"Potato\"]\n",
    "brothers_list.extend(my_list)"
   ]
  },
  {
   "cell_type": "code",
   "execution_count": 39,
   "id": "c9f1017d-8532-423f-ac65-3fefb3aef2dd",
   "metadata": {},
   "outputs": [
    {
     "data": {
      "text/plain": [
       "['Brinjal', 'Potato', 'Apple', 'Banana', 'Orange']"
      ]
     },
     "execution_count": 39,
     "metadata": {},
     "output_type": "execute_result"
    }
   ],
   "source": [
    "brothers_list"
   ]
  },
  {
   "cell_type": "code",
   "execution_count": 40,
   "id": "fda26aea-f7af-4f7e-809e-c549e6910787",
   "metadata": {},
   "outputs": [
    {
     "data": {
      "text/plain": [
       "['Apple', 'Banana', 'Orange']"
      ]
     },
     "execution_count": 40,
     "metadata": {},
     "output_type": "execute_result"
    }
   ],
   "source": [
    "my_list"
   ]
  },
  {
   "cell_type": "code",
   "execution_count": 41,
   "id": "b8cfb07b-1652-4787-99b6-fb83fc43ab2e",
   "metadata": {},
   "outputs": [
    {
     "data": {
      "text/plain": [
       "['Apple', 'Banana', 'Orange', 'Brinjal', 'Potato']"
      ]
     },
     "execution_count": 41,
     "metadata": {},
     "output_type": "execute_result"
    }
   ],
   "source": [
    "#concatenate\n",
    "my_list = [\"Apple\", \"Banana\", \"Orange\"]\n",
    "brothers_list = [\"Brinjal\", \"Potato\"]\n",
    "my_list + brothers_list"
   ]
  },
  {
   "cell_type": "code",
   "execution_count": 42,
   "id": "d75d341a-adcf-4eea-a240-8583ed41b0f9",
   "metadata": {},
   "outputs": [
    {
     "data": {
      "text/plain": [
       "'***************'"
      ]
     },
     "execution_count": 42,
     "metadata": {},
     "output_type": "execute_result"
    }
   ],
   "source": [
    "#repeatation operation\n",
    "\"*\" * 15"
   ]
  },
  {
   "cell_type": "code",
   "execution_count": 43,
   "id": "69ec16bd-3c46-471b-9b60-0c9c6b226cc2",
   "metadata": {},
   "outputs": [
    {
     "data": {
      "text/plain": [
       "'----------'"
      ]
     },
     "execution_count": 43,
     "metadata": {},
     "output_type": "execute_result"
    }
   ],
   "source": [
    "\"-\" * 10"
   ]
  },
  {
   "cell_type": "code",
   "execution_count": 44,
   "id": "4e9b7697-0df1-4ee6-827f-2650742c1e1f",
   "metadata": {},
   "outputs": [
    {
     "data": {
      "text/plain": [
       "[0, 0, 0, 0, 0, 0, 0, 0, 0, 0]"
      ]
     },
     "execution_count": 44,
     "metadata": {},
     "output_type": "execute_result"
    }
   ],
   "source": [
    "[0] * 10"
   ]
  },
  {
   "cell_type": "code",
   "execution_count": 45,
   "id": "3bf1d67e-3edd-490f-8174-884edecc499d",
   "metadata": {},
   "outputs": [
    {
     "data": {
      "text/plain": [
       "[1, 2, 3, 1, 2, 3, 1, 2, 3, 1, 2, 3, 1, 2, 3]"
      ]
     },
     "execution_count": 45,
     "metadata": {},
     "output_type": "execute_result"
    }
   ],
   "source": [
    "[1, 2, 3] * 5"
   ]
  },
  {
   "cell_type": "code",
   "execution_count": 47,
   "id": "021edc9d-7b9e-4588-9b92-62cf44dd56ee",
   "metadata": {},
   "outputs": [
    {
     "data": {
      "text/plain": [
       "[0,\n",
       " 1,\n",
       " 2,\n",
       " 3,\n",
       " 4,\n",
       " 5,\n",
       " 6,\n",
       " 7,\n",
       " 8,\n",
       " 9,\n",
       " 0,\n",
       " 1,\n",
       " 2,\n",
       " 3,\n",
       " 4,\n",
       " 5,\n",
       " 6,\n",
       " 7,\n",
       " 8,\n",
       " 9,\n",
       " 0,\n",
       " 1,\n",
       " 2,\n",
       " 3,\n",
       " 4,\n",
       " 5,\n",
       " 6,\n",
       " 7,\n",
       " 8,\n",
       " 9]"
      ]
     },
     "execution_count": 47,
     "metadata": {},
     "output_type": "execute_result"
    }
   ],
   "source": [
    "list(range(10))*3"
   ]
  },
  {
   "cell_type": "code",
   "execution_count": 48,
   "id": "498cf6e5-0b09-4d63-b57b-ad3546700da0",
   "metadata": {},
   "outputs": [
    {
     "name": "stdout",
     "output_type": "stream",
     "text": [
      "Your appointment is tomorrow \n",
      "Your appointment is tomorrow \n",
      "Your appointment is tomorrow \n",
      "\n"
     ]
    }
   ],
   "source": [
    "msg = \"Your appointment is tomorrow \\n\"\n",
    "print(msg*3)"
   ]
  },
  {
   "cell_type": "code",
   "execution_count": 49,
   "id": "ca64ae44-4052-4a5f-a527-f89272da8857",
   "metadata": {},
   "outputs": [
    {
     "data": {
      "text/plain": [
       "['Milk', 'Orange', 1, 2.2, True, (3+5j)]"
      ]
     },
     "execution_count": 49,
     "metadata": {},
     "output_type": "execute_result"
    }
   ],
   "source": [
    "#membership in, not in\n",
    "grocery_list"
   ]
  },
  {
   "cell_type": "code",
   "execution_count": 50,
   "id": "998aa2c9-56ba-4176-b06e-fdde84358727",
   "metadata": {},
   "outputs": [
    {
     "data": {
      "text/plain": [
       "True"
      ]
     },
     "execution_count": 50,
     "metadata": {},
     "output_type": "execute_result"
    }
   ],
   "source": [
    "\"Milk\" in grocery_list"
   ]
  },
  {
   "cell_type": "code",
   "execution_count": 51,
   "id": "f8aa4025-03db-4e21-b59e-a0a43bc3e0b7",
   "metadata": {},
   "outputs": [
    {
     "data": {
      "text/plain": [
       "False"
      ]
     },
     "execution_count": 51,
     "metadata": {},
     "output_type": "execute_result"
    }
   ],
   "source": [
    "\"Potato\" in grocery_list"
   ]
  },
  {
   "cell_type": "code",
   "execution_count": 52,
   "id": "1c7881d7-8c0d-46f7-ba8f-34f1d37a5a57",
   "metadata": {},
   "outputs": [
    {
     "data": {
      "text/plain": [
       "True"
      ]
     },
     "execution_count": 52,
     "metadata": {},
     "output_type": "execute_result"
    }
   ],
   "source": [
    "\"Potato\" not in grocery_list"
   ]
  },
  {
   "cell_type": "code",
   "execution_count": 53,
   "id": "2a627723-a867-4576-b93f-00f5f8515b3b",
   "metadata": {},
   "outputs": [],
   "source": [
    "#deep copy and shallow copy\n",
    "#shallow copy >>> value will change with change in other list"
   ]
  },
  {
   "cell_type": "code",
   "execution_count": 54,
   "id": "f38ef8b0-8c0c-450b-9590-79f487cf1dcd",
   "metadata": {},
   "outputs": [
    {
     "data": {
      "text/plain": [
       "['Milk', 'Orange', 1, 2.2, True, (3+5j)]"
      ]
     },
     "execution_count": 54,
     "metadata": {},
     "output_type": "execute_result"
    }
   ],
   "source": [
    "grocery_list"
   ]
  },
  {
   "cell_type": "code",
   "execution_count": 55,
   "id": "dc0667eb-17ec-4b3f-8a0a-a15354bb3d9a",
   "metadata": {},
   "outputs": [],
   "source": [
    "a = grocery_list"
   ]
  },
  {
   "cell_type": "code",
   "execution_count": 56,
   "id": "7a910978-c274-4888-b029-c36249711c9c",
   "metadata": {},
   "outputs": [
    {
     "data": {
      "text/plain": [
       "['Milk', 'Orange', 1, 2.2, True, (3+5j)]"
      ]
     },
     "execution_count": 56,
     "metadata": {},
     "output_type": "execute_result"
    }
   ],
   "source": [
    "a"
   ]
  },
  {
   "cell_type": "code",
   "execution_count": 57,
   "id": "1c87e5ae-fddc-43ba-ade2-9bd43edeee60",
   "metadata": {},
   "outputs": [
    {
     "data": {
      "text/plain": [
       "['Milk', 'Orange', 1, 2.2, True, (3+5j)]"
      ]
     },
     "execution_count": 57,
     "metadata": {},
     "output_type": "execute_result"
    }
   ],
   "source": [
    "grocery_list"
   ]
  },
  {
   "cell_type": "code",
   "execution_count": 58,
   "id": "f0c2d8aa-c321-4f53-80c0-2e254d117e12",
   "metadata": {},
   "outputs": [],
   "source": [
    "a[0] = \"potato\""
   ]
  },
  {
   "cell_type": "code",
   "execution_count": 59,
   "id": "3d2c9ab8-7089-410f-a06c-e8323fac16bd",
   "metadata": {},
   "outputs": [
    {
     "data": {
      "text/plain": [
       "['potato', 'Orange', 1, 2.2, True, (3+5j)]"
      ]
     },
     "execution_count": 59,
     "metadata": {},
     "output_type": "execute_result"
    }
   ],
   "source": [
    "a"
   ]
  },
  {
   "cell_type": "code",
   "execution_count": 60,
   "id": "c3ed5c5a-5dcc-4b44-908f-c95f370ec0e2",
   "metadata": {},
   "outputs": [
    {
     "data": {
      "text/plain": [
       "['potato', 'Orange', 1, 2.2, True, (3+5j)]"
      ]
     },
     "execution_count": 60,
     "metadata": {},
     "output_type": "execute_result"
    }
   ],
   "source": [
    "grocery_list"
   ]
  },
  {
   "cell_type": "code",
   "execution_count": null,
   "id": "436140dc-896b-4934-b4c2-fca87211b197",
   "metadata": {},
   "outputs": [],
   "source": []
  }
 ],
 "metadata": {
  "kernelspec": {
   "display_name": "Python 3 (ipykernel)",
   "language": "python",
   "name": "python3"
  },
  "language_info": {
   "codemirror_mode": {
    "name": "ipython",
    "version": 3
   },
   "file_extension": ".py",
   "mimetype": "text/x-python",
   "name": "python",
   "nbconvert_exporter": "python",
   "pygments_lexer": "ipython3",
   "version": "3.10.8"
  }
 },
 "nbformat": 4,
 "nbformat_minor": 5
}
