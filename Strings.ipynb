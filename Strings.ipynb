{
 "cells": [
  {
   "cell_type": "code",
   "execution_count": 1,
   "id": "54013671-7dc0-4817-ad13-b068f6404059",
   "metadata": {},
   "outputs": [],
   "source": [
    "#ASCII - AMERICAN STARNDARD CODE FOR INFORMATION INTERCHANGE\n",
    "#UTF 8 & UTF 16 - UNICODE TRANSFORMATION FORMAT"
   ]
  },
  {
   "cell_type": "code",
   "execution_count": 4,
   "id": "89e030f0-c68d-4960-85b6-976a854705cf",
   "metadata": {},
   "outputs": [
    {
     "data": {
      "text/plain": [
       "65"
      ]
     },
     "execution_count": 4,
     "metadata": {},
     "output_type": "execute_result"
    }
   ],
   "source": [
    "char = \"A\"\n",
    "ord(char) #ord>ordinal, means what is numerical order of character"
   ]
  },
  {
   "cell_type": "code",
   "execution_count": 5,
   "id": "32b490c4-30aa-4f7e-8e68-ade56cc7e075",
   "metadata": {},
   "outputs": [
    {
     "data": {
      "text/plain": [
       "'A'"
      ]
     },
     "execution_count": 5,
     "metadata": {},
     "output_type": "execute_result"
    }
   ],
   "source": [
    "chr(65)"
   ]
  },
  {
   "cell_type": "code",
   "execution_count": 2,
   "id": "2239afdb-4a5b-41c6-af99-6a023f525b04",
   "metadata": {},
   "outputs": [
    {
     "data": {
      "text/plain": [
       "'I am'"
      ]
     },
     "execution_count": 2,
     "metadata": {},
     "output_type": "execute_result"
    }
   ],
   "source": [
    "string1 = \"I am a good student\"\n",
    "string1[0:4] #4 is exclusive [a, b]>>it will give result till b-1 index"
   ]
  },
  {
   "cell_type": "code",
   "execution_count": 3,
   "id": "717e7a4f-da7a-43d2-8edf-fe839932491f",
   "metadata": {},
   "outputs": [
    {
     "data": {
      "text/plain": [
       "'a good '"
      ]
     },
     "execution_count": 3,
     "metadata": {},
     "output_type": "execute_result"
    }
   ],
   "source": [
    "string1[5:12]"
   ]
  },
  {
   "cell_type": "code",
   "execution_count": 4,
   "id": "037aa6a9-da48-4954-aea0-fc21de74c065",
   "metadata": {},
   "outputs": [
    {
     "data": {
      "text/plain": [
       "'I am a good student'"
      ]
     },
     "execution_count": 4,
     "metadata": {},
     "output_type": "execute_result"
    }
   ],
   "source": [
    "string1[0:]#start_index:end_index>> if you not provide end index, it will be default give substring till the last index"
   ]
  },
  {
   "cell_type": "code",
   "execution_count": 1,
   "id": "88ee6002-d0fb-4c46-9a77-770bc4adf56b",
   "metadata": {},
   "outputs": [],
   "source": [
    "string2 = \"hello world!\""
   ]
  },
  {
   "cell_type": "code",
   "execution_count": 2,
   "id": "4410ae03-3bb0-492f-8184-935b0e860d10",
   "metadata": {},
   "outputs": [
    {
     "data": {
      "text/plain": [
       "'hello'"
      ]
     },
     "execution_count": 2,
     "metadata": {},
     "output_type": "execute_result"
    }
   ],
   "source": [
    "string2[0:5:1] #by default step is 1"
   ]
  },
  {
   "cell_type": "code",
   "execution_count": 3,
   "id": "790eefe9-c76c-4471-9b0a-b6cbf06e3035",
   "metadata": {},
   "outputs": [
    {
     "data": {
      "text/plain": [
       "'hlo'"
      ]
     },
     "execution_count": 3,
     "metadata": {},
     "output_type": "execute_result"
    }
   ],
   "source": [
    "string2[0:5:2]#syntex>> [start:end:step]"
   ]
  },
  {
   "cell_type": "code",
   "execution_count": 4,
   "id": "cf73aa3c-a801-4172-ba29-1711e4cf9d7f",
   "metadata": {},
   "outputs": [
    {
     "data": {
      "text/plain": [
       "'hello world!'"
      ]
     },
     "execution_count": 4,
     "metadata": {},
     "output_type": "execute_result"
    }
   ],
   "source": [
    "string2[::1]"
   ]
  },
  {
   "cell_type": "code",
   "execution_count": 5,
   "id": "c7155bd0-483d-4240-92a1-64b708883d06",
   "metadata": {},
   "outputs": [
    {
     "data": {
      "text/plain": [
       "'hlowrd'"
      ]
     },
     "execution_count": 5,
     "metadata": {},
     "output_type": "execute_result"
    }
   ],
   "source": [
    "string2[::2]"
   ]
  },
  {
   "cell_type": "code",
   "execution_count": 6,
   "id": "2cfd7eae-574d-4467-99ab-b71e03e151b8",
   "metadata": {},
   "outputs": [
    {
     "data": {
      "text/plain": [
       "'hello world!'"
      ]
     },
     "execution_count": 6,
     "metadata": {},
     "output_type": "execute_result"
    }
   ],
   "source": [
    "string2"
   ]
  },
  {
   "cell_type": "code",
   "execution_count": 8,
   "id": "8c8e4dd0-ee7d-41db-81fd-508a23380162",
   "metadata": {},
   "outputs": [
    {
     "data": {
      "text/plain": [
       "'!dlrow olleh'"
      ]
     },
     "execution_count": 8,
     "metadata": {},
     "output_type": "execute_result"
    }
   ],
   "source": [
    "#iterate over the sequence in reverse order\n",
    "#it means start from the end, move to beginning an step backwards by one character\n",
    "string2[::-1]"
   ]
  },
  {
   "cell_type": "code",
   "execution_count": 9,
   "id": "eaca4005-0247-4605-9fc4-9b8d2a5281eb",
   "metadata": {},
   "outputs": [
    {
     "data": {
      "text/plain": [
       "14"
      ]
     },
     "execution_count": 9,
     "metadata": {},
     "output_type": "execute_result"
    }
   ],
   "source": [
    "#no of characters\n",
    "s= \"I am an Indian\"\n",
    "len(s)"
   ]
  },
  {
   "cell_type": "code",
   "execution_count": 10,
   "id": "19c76c4b-4929-46f4-a5cf-c6ac5797edc9",
   "metadata": {},
   "outputs": [
    {
     "data": {
      "text/plain": [
       "'I am a teacher'"
      ]
     },
     "execution_count": 10,
     "metadata": {},
     "output_type": "execute_result"
    }
   ],
   "source": [
    "#modification of string\n",
    "s = \"I am a student\"\n",
    "s.replace(\"student\", \"teacher\")"
   ]
  },
  {
   "cell_type": "code",
   "execution_count": 11,
   "id": "907f05ac-51c5-4412-9ad0-2ebf576cbd89",
   "metadata": {},
   "outputs": [
    {
     "data": {
      "text/plain": [
       "'123 suhana apartment, marathalli, banalore'"
      ]
     },
     "execution_count": 11,
     "metadata": {},
     "output_type": "execute_result"
    }
   ],
   "source": [
    "#use case\n",
    "address = \"123 suhana apt, marathalli, banalore\"\n",
    "address.replace(\"apt\", \"apartment\")"
   ]
  },
  {
   "cell_type": "code",
   "execution_count": 14,
   "id": "05fb59bc-6008-4e5c-bb04-bff1a37dbf8d",
   "metadata": {},
   "outputs": [
    {
     "data": {
      "text/plain": [
       "'Back, talk to you later, laughing out loud'"
      ]
     },
     "execution_count": 14,
     "metadata": {},
     "output_type": "execute_result"
    }
   ],
   "source": [
    "text = \"BRB, TTYL, LOL\"\n",
    "text.replace(\"BRB\", \"Back\").replace(\"TTYL\", \"talk to you later\").replace(\"LOL\", \"laughing out loud\")"
   ]
  },
  {
   "cell_type": "code",
   "execution_count": 15,
   "id": "b31c2117-0c54-4270-8d43-d772e9d36f32",
   "metadata": {},
   "outputs": [
    {
     "data": {
      "text/plain": [
       "'hello world'"
      ]
     },
     "execution_count": 15,
     "metadata": {},
     "output_type": "execute_result"
    }
   ],
   "source": [
    "text = \"Hello World\"\n",
    "text.lower()"
   ]
  },
  {
   "cell_type": "code",
   "execution_count": 16,
   "id": "3c76db2b-4834-4765-8cc0-77cd250afecf",
   "metadata": {},
   "outputs": [
    {
     "data": {
      "text/plain": [
       "'HELLO WORLD'"
      ]
     },
     "execution_count": 16,
     "metadata": {},
     "output_type": "execute_result"
    }
   ],
   "source": [
    "text.upper()"
   ]
  },
  {
   "cell_type": "code",
   "execution_count": 17,
   "id": "02782c3b-4a03-464e-b487-bcf4ce7bc081",
   "metadata": {},
   "outputs": [
    {
     "data": {
      "text/plain": [
       "'Hello World'"
      ]
     },
     "execution_count": 17,
     "metadata": {},
     "output_type": "execute_result"
    }
   ],
   "source": [
    "text.title()"
   ]
  },
  {
   "cell_type": "code",
   "execution_count": 18,
   "id": "d4461aa0-9f1a-4135-9dca-16a0c1221f54",
   "metadata": {},
   "outputs": [
    {
     "data": {
      "text/plain": [
       "'i AM A sTUDENT'"
      ]
     },
     "execution_count": 18,
     "metadata": {},
     "output_type": "execute_result"
    }
   ],
   "source": [
    "text = \"I am a Student\"\n",
    "text.swapcase()"
   ]
  },
  {
   "cell_type": "code",
   "execution_count": 19,
   "id": "561d7da7-fb65-4895-bdfb-4fba3568c24a",
   "metadata": {},
   "outputs": [
    {
     "data": {
      "text/plain": [
       "'I am a student'"
      ]
     },
     "execution_count": 19,
     "metadata": {},
     "output_type": "execute_result"
    }
   ],
   "source": [
    "text.capitalize()"
   ]
  },
  {
   "cell_type": "code",
   "execution_count": 20,
   "id": "6153accb-594e-484c-a9e1-c8a15abdb836",
   "metadata": {},
   "outputs": [
    {
     "data": {
      "text/plain": [
       "True"
      ]
     },
     "execution_count": 20,
     "metadata": {},
     "output_type": "execute_result"
    }
   ],
   "source": [
    "#string searching\n",
    "sentence = \"I am a student at pwskills\"\n",
    "\"am\" in sentence"
   ]
  },
  {
   "cell_type": "code",
   "execution_count": 22,
   "id": "79aa67da-4dbb-4563-bc37-d7386b834cbb",
   "metadata": {},
   "outputs": [
    {
     "name": "stdout",
     "output_type": "stream",
     "text": [
      "The search word is present\n"
     ]
    }
   ],
   "source": [
    "sentence = \"I am a student at pwskills\"\n",
    "search_word = \"am\"\n",
    "if search_word in sentence:\n",
    "    print(\"The search word is present\")\n",
    "else:\n",
    "        print(\"Not present\")       "
   ]
  },
  {
   "cell_type": "code",
   "execution_count": 23,
   "id": "b87e9ed9-a2b2-4c73-bae4-00f9fc97b0fc",
   "metadata": {},
   "outputs": [
    {
     "name": "stdout",
     "output_type": "stream",
     "text": [
      "valid email\n"
     ]
    }
   ],
   "source": [
    "email = \"amrit123@gmail.com\"\n",
    "if \"@\" in email:\n",
    "    print(\"valid email\")\n",
    "else:\n",
    "    print(\"Invalid email\")"
   ]
  },
  {
   "cell_type": "code",
   "execution_count": 24,
   "id": "5022df32-0b1d-493f-9286-c1a972ed97d6",
   "metadata": {},
   "outputs": [
    {
     "name": "stdout",
     "output_type": "stream",
     "text": [
      "Its a pdf file\n"
     ]
    }
   ],
   "source": [
    "document = \"some_file.pdf\"\n",
    "if \".pdf\" in document:\n",
    "    print(\"Its a pdf file\")\n",
    "else:\n",
    "    print(\"Not a pdf file\")"
   ]
  },
  {
   "cell_type": "code",
   "execution_count": 25,
   "id": "cd5999d2-f90b-460c-9250-39df0d24e063",
   "metadata": {},
   "outputs": [
    {
     "data": {
      "text/plain": [
       "True"
      ]
     },
     "execution_count": 25,
     "metadata": {},
     "output_type": "execute_result"
    }
   ],
   "source": [
    "#string comparison\n",
    "str1 = \"hello\"\n",
    "str2 = \"hello\"\n",
    "str1 == str2"
   ]
  },
  {
   "cell_type": "code",
   "execution_count": 26,
   "id": "5cb2a80e-f323-4e2c-b752-21baa0f80823",
   "metadata": {},
   "outputs": [
    {
     "data": {
      "text/plain": [
       "True"
      ]
     },
     "execution_count": 26,
     "metadata": {},
     "output_type": "execute_result"
    }
   ],
   "source": [
    "str1 = \"Hello\"\n",
    "str2 = \"hello\"\n",
    "str1.lower() == str2.lower()"
   ]
  },
  {
   "cell_type": "code",
   "execution_count": 27,
   "id": "25117efe-b06d-4300-87f9-d36c68949dd2",
   "metadata": {},
   "outputs": [
    {
     "name": "stdout",
     "output_type": "stream",
     "text": [
      "username is available\n"
     ]
    }
   ],
   "source": [
    "reg_username = [\"pw\", \"PW\", \"pW\"]\n",
    "new_user = \"PW1\"\n",
    "if new_user in reg_username:\n",
    "    print(\"already in use\")\n",
    "else:\n",
    "    print(\"username is available\")"
   ]
  },
  {
   "cell_type": "code",
   "execution_count": 28,
   "id": "b814c0b1-2ca7-4ae4-94a1-1ca08bb951ef",
   "metadata": {},
   "outputs": [
    {
     "name": "stdin",
     "output_type": "stream",
     "text": [
      "scan the product code asdfds\n"
     ]
    }
   ],
   "source": [
    "product_code = \"P123\"\n",
    "scanned_code = input(\"scan the product code\")\n",
    "if product_code == scanned_code:\n",
    "    print(\"The price is 100\")\n",
    "else:\n",
    "    print(\"Talk to receptionist\")"
   ]
  },
  {
   "cell_type": "code",
   "execution_count": 29,
   "id": "01953416-b630-400b-ae15-95443fc81039",
   "metadata": {},
   "outputs": [
    {
     "name": "stdin",
     "output_type": "stream",
     "text": [
      "scan the product code P123\n"
     ]
    },
    {
     "name": "stdout",
     "output_type": "stream",
     "text": [
      "The price is 100\n"
     ]
    }
   ],
   "source": [
    "product_code = \"P123\"\n",
    "scanned_code = input(\"scan the product code\")\n",
    "if product_code == scanned_code:\n",
    "    print(\"The price is 100\")\n",
    "else:\n",
    "    print(\"Talk to receptionist\")"
   ]
  },
  {
   "cell_type": "code",
   "execution_count": 32,
   "id": "14b5017a-8c8d-4571-aa17-e819edf5944f",
   "metadata": {},
   "outputs": [
    {
     "data": {
      "text/plain": [
       "['Ajay', 'Bijay', 'Sanjay']"
      ]
     },
     "execution_count": 32,
     "metadata": {},
     "output_type": "execute_result"
    }
   ],
   "source": [
    "#string ordering\n",
    "name = [\"Ajay\", \"Sanjay\", \"Bijay\"]\n",
    "sorted(name)"
   ]
  },
  {
   "cell_type": "code",
   "execution_count": 34,
   "id": "0c8ca9be-d2f2-4674-b022-47d5d30d5ce5",
   "metadata": {},
   "outputs": [
    {
     "data": {
      "text/plain": [
       "['Aalishan', 'KKKH', 'Magic', 'Singham']"
      ]
     },
     "execution_count": 34,
     "metadata": {},
     "output_type": "execute_result"
    }
   ],
   "source": [
    "playlist = [\"KKKH\", \"Magic\", \"Singham\", \"Aalishan\"]\n",
    "sorted(playlist)"
   ]
  },
  {
   "cell_type": "code",
   "execution_count": 2,
   "id": "191d43a1-9010-4074-960e-6ba49119c052",
   "metadata": {},
   "outputs": [
    {
     "data": {
      "text/plain": [
       "'           pwskills                '"
      ]
     },
     "execution_count": 2,
     "metadata": {},
     "output_type": "execute_result"
    }
   ],
   "source": [
    "#common string operations >>> strip for removing spaces\n",
    "input_str = \"           pwskills                \"\n",
    "input_str"
   ]
  },
  {
   "cell_type": "code",
   "execution_count": 4,
   "id": "b5c44a6e-6a93-4d2b-8718-fa4a551a5855",
   "metadata": {},
   "outputs": [
    {
     "data": {
      "text/plain": [
       "'pwskills'"
      ]
     },
     "execution_count": 4,
     "metadata": {},
     "output_type": "execute_result"
    }
   ],
   "source": [
    "input_str.strip()"
   ]
  },
  {
   "cell_type": "code",
   "execution_count": 5,
   "id": "e33fc834-c163-465f-9f66-0f71a06f2333",
   "metadata": {},
   "outputs": [
    {
     "data": {
      "text/plain": [
       "'Apple'"
      ]
     },
     "execution_count": 5,
     "metadata": {},
     "output_type": "execute_result"
    }
   ],
   "source": [
    "row = \"Apple       \"\n",
    "row.strip()"
   ]
  },
  {
   "cell_type": "code",
   "execution_count": 6,
   "id": "83e7b670-af06-407d-8224-0286cd1cc79d",
   "metadata": {},
   "outputs": [
    {
     "data": {
      "text/plain": [
       "'Ajay, data science, teacher'"
      ]
     },
     "execution_count": 6,
     "metadata": {},
     "output_type": "execute_result"
    }
   ],
   "source": [
    "#string splitting\n",
    "data = \"Ajay, data science, teacher\"\n",
    "data"
   ]
  },
  {
   "cell_type": "code",
   "execution_count": 9,
   "id": "3a03e2c9-0d2f-4d25-8c83-b900ef8de08c",
   "metadata": {},
   "outputs": [
    {
     "data": {
      "text/plain": [
       "['Ajay', ' data science', ' teacher']"
      ]
     },
     "execution_count": 9,
     "metadata": {},
     "output_type": "execute_result"
    }
   ],
   "source": [
    "teacher_info = data.split(',')\n",
    "teacher_info"
   ]
  },
  {
   "cell_type": "code",
   "execution_count": 11,
   "id": "20e29d48-f0e5-49e0-84e7-40c4886b9f5e",
   "metadata": {},
   "outputs": [],
   "source": [
    "name = teacher_info[0]\n",
    "sub = teacher_info[1]\n",
    "des = teacher_info[2]"
   ]
  },
  {
   "cell_type": "code",
   "execution_count": 12,
   "id": "9b119e9e-cbef-4598-bfce-6c2c1b6d06dc",
   "metadata": {},
   "outputs": [
    {
     "data": {
      "text/plain": [
       "'Ajay'"
      ]
     },
     "execution_count": 12,
     "metadata": {},
     "output_type": "execute_result"
    }
   ],
   "source": [
    "name"
   ]
  },
  {
   "cell_type": "code",
   "execution_count": 13,
   "id": "bbffe77a-5f57-4bd7-9c27-76d7fff45a63",
   "metadata": {},
   "outputs": [
    {
     "data": {
      "text/plain": [
       "' data science'"
      ]
     },
     "execution_count": 13,
     "metadata": {},
     "output_type": "execute_result"
    }
   ],
   "source": [
    "sub"
   ]
  },
  {
   "cell_type": "code",
   "execution_count": 14,
   "id": "737339bf-bdba-4290-ab87-d8f1775fe171",
   "metadata": {},
   "outputs": [
    {
     "data": {
      "text/plain": [
       "' teacher'"
      ]
     },
     "execution_count": 14,
     "metadata": {},
     "output_type": "execute_result"
    }
   ],
   "source": [
    "des"
   ]
  },
  {
   "cell_type": "code",
   "execution_count": 15,
   "id": "c826c228-e41a-47e5-93d0-7643b4bf49b0",
   "metadata": {},
   "outputs": [],
   "source": [
    "#Escape sequences >> special combination of character used within a string"
   ]
  },
  {
   "cell_type": "code",
   "execution_count": 17,
   "id": "4142f00c-e0ef-4e54-9663-c9f4490c726d",
   "metadata": {},
   "outputs": [],
   "source": [
    "address = \"\"\"123, sanmukha villa,\n",
    "marathalli,\n",
    "bangalore\"\"\""
   ]
  },
  {
   "cell_type": "code",
   "execution_count": 18,
   "id": "29e78f55-6c5a-4be3-81f4-393aa7685cdc",
   "metadata": {},
   "outputs": [
    {
     "data": {
      "text/plain": [
       "'123, sanmukha villa,\\nmarathalli,\\nbangalore'"
      ]
     },
     "execution_count": 18,
     "metadata": {},
     "output_type": "execute_result"
    }
   ],
   "source": [
    "address"
   ]
  },
  {
   "cell_type": "code",
   "execution_count": 19,
   "id": "68d0274f-17df-4300-b8b3-8f253d3ff6cc",
   "metadata": {},
   "outputs": [
    {
     "name": "stdout",
     "output_type": "stream",
     "text": [
      "123, sanmukha villa,\n",
      "marathalli,\n",
      "bangalore\n"
     ]
    }
   ],
   "source": [
    "print(address)"
   ]
  },
  {
   "cell_type": "code",
   "execution_count": 20,
   "id": "b24b8e16-9d14-417c-a5dc-fcfd572de380",
   "metadata": {},
   "outputs": [
    {
     "name": "stdout",
     "output_type": "stream",
     "text": [
      "Name\tAge\tGrade\n",
      "Ajay\t21\tA\n",
      "Bijay\t22\tA+\n"
     ]
    }
   ],
   "source": [
    "#\\t escape character \\t>>> tab\n",
    "table = \"Name\\tAge\\tGrade\\nAjay\\t21\\tA\\nBijay\\t22\\tA+\"\n",
    "print(table)"
   ]
  },
  {
   "cell_type": "code",
   "execution_count": 21,
   "id": "a3309f52-52fa-4158-99fb-38c14745201a",
   "metadata": {},
   "outputs": [
    {
     "data": {
      "text/plain": [
       "'C:\\\\USERS\\\\DOWNLOADS\\\\FILES.txt'"
      ]
     },
     "execution_count": 21,
     "metadata": {},
     "output_type": "execute_result"
    }
   ],
   "source": [
    "file_path = \"C:\\\\USERS\\\\DOWNLOADS\\\\FILES.txt\"\n",
    "file_path"
   ]
  },
  {
   "cell_type": "code",
   "execution_count": 22,
   "id": "185aac45-6381-4580-ae40-d4accfb65c16",
   "metadata": {},
   "outputs": [
    {
     "name": "stdout",
     "output_type": "stream",
     "text": [
      "C:\\USERS\\DOWNLOADS\\FILES.txt\n"
     ]
    }
   ],
   "source": [
    "print(file_path)"
   ]
  },
  {
   "cell_type": "code",
   "execution_count": 23,
   "id": "f770ed42-f2b8-4d1e-9167-76a008b537b0",
   "metadata": {},
   "outputs": [
    {
     "name": "stdout",
     "output_type": "stream",
     "text": [
      "I can't believe its friday\n"
     ]
    }
   ],
   "source": [
    "#\\' single quote escape\n",
    "str1 = 'I can\\'t believe its friday'\n",
    "print(str1)"
   ]
  },
  {
   "cell_type": "code",
   "execution_count": 24,
   "id": "98e2e1df-1500-4637-81dd-13449b13a9a3",
   "metadata": {},
   "outputs": [
    {
     "name": "stdout",
     "output_type": "stream",
     "text": [
      "Hello, I am Amrit, I am going to delhi\n"
     ]
    }
   ],
   "source": [
    "#carriage return \\r >>>> moves the cursor to the beginning of line\n",
    "print(\"Hello, I am Amrit, I am going to delhi\")"
   ]
  },
  {
   "cell_type": "code",
   "execution_count": 25,
   "id": "8743aa1e-fdb0-43e1-a9e1-3be32004422c",
   "metadata": {},
   "outputs": [
    {
     "name": "stdout",
     "output_type": "stream",
     "text": [
      "Amrit, I am going to delhi\n"
     ]
    }
   ],
   "source": [
    "print(\"Hello, I am \\rAmrit, I am going to delhi\")"
   ]
  },
  {
   "cell_type": "code",
   "execution_count": 26,
   "id": "138fe372-8fa6-4e7e-9906-109798cd2fb9",
   "metadata": {},
   "outputs": [
    {
     "name": "stdout",
     "output_type": "stream",
     "text": [
      "My name is Amrit\n"
     ]
    }
   ],
   "source": [
    "#string formatting >>> creating string with place holder for variables\n",
    "print(\"My name is Amrit\")"
   ]
  },
  {
   "cell_type": "code",
   "execution_count": 27,
   "id": "5a5da2cc-f396-4f5c-9d5c-2bbf03c408d5",
   "metadata": {},
   "outputs": [
    {
     "name": "stdout",
     "output_type": "stream",
     "text": [
      "My name is Amrit\n",
      "My name is Ajay\n",
      "My name is Bijay\n"
     ]
    }
   ],
   "source": [
    "print(\"My name is Amrit\")\n",
    "print(\"My name is Ajay\")\n",
    "print(\"My name is Bijay\")"
   ]
  },
  {
   "cell_type": "code",
   "execution_count": 30,
   "id": "6898a714-c848-4607-aa4c-42aca9ad25b6",
   "metadata": {},
   "outputs": [
    {
     "name": "stdout",
     "output_type": "stream",
     "text": [
      "hello Bijay, how are you?\n"
     ]
    }
   ],
   "source": [
    "name = \"Bijay\"\n",
    "greetings = f\"hello {name}, how are you?\"\n",
    "print(greetings)"
   ]
  },
  {
   "cell_type": "code",
   "execution_count": 31,
   "id": "84cc4169-5648-477c-9f25-7211a4e8bb35",
   "metadata": {},
   "outputs": [
    {
     "name": "stdout",
     "output_type": "stream",
     "text": [
      "Hello PW Skills, wish you a wonderful day\n"
     ]
    }
   ],
   "source": [
    "#string formatting\n",
    "name = \"PW Skills\"\n",
    "greeting = \"Hello %s, wish you a wonderful day\"%name\n",
    "print(greeting)"
   ]
  },
  {
   "cell_type": "code",
   "execution_count": 34,
   "id": "eed4adfa-c4b4-4198-af2f-f9d77de350e5",
   "metadata": {},
   "outputs": [
    {
     "name": "stdout",
     "output_type": "stream",
     "text": [
      "Hello, Ajay welcome to Data Science\n"
     ]
    }
   ],
   "source": [
    "#format\n",
    "template = \"Hello, {} welcome to {}\"\n",
    "message = template.format(\"Ajay\", \"Data Science\")\n",
    "print(message)"
   ]
  },
  {
   "cell_type": "code",
   "execution_count": 35,
   "id": "fd9a0d1b-acb8-4352-8abe-5956eb5635aa",
   "metadata": {},
   "outputs": [
    {
     "data": {
      "text/plain": [
       "'My course is pw data + frontend and its duration is 4 years.'"
      ]
     },
     "execution_count": 35,
     "metadata": {},
     "output_type": "execute_result"
    }
   ],
   "source": [
    "#f string (formatted string literals)\n",
    "course = \"pw data + frontend\"\n",
    "duration = 4\n",
    "f\"My course is {course} and its duration is {duration} years.\""
   ]
  },
  {
   "cell_type": "code",
   "execution_count": 36,
   "id": "0f587718-f38b-4779-9ce9-69f0389a2947",
   "metadata": {},
   "outputs": [
    {
     "data": {
      "text/plain": [
       "'30 is equal to 86.0F'"
      ]
     },
     "execution_count": 36,
     "metadata": {},
     "output_type": "execute_result"
    }
   ],
   "source": [
    "celsius = 30\n",
    "f\"{celsius} is equal to {(celsius * 9/5)+32}F\""
   ]
  },
  {
   "cell_type": "code",
   "execution_count": 37,
   "id": "8a854912-ceb8-4352-a889-15ed9cb9c321",
   "metadata": {},
   "outputs": [
    {
     "data": {
      "text/plain": [
       "False"
      ]
     },
     "execution_count": 37,
     "metadata": {},
     "output_type": "execute_result"
    }
   ],
   "source": [
    "str1 = \"pwskills\"\n",
    "str1.startswith(\"aws\")"
   ]
  },
  {
   "cell_type": "code",
   "execution_count": 38,
   "id": "7706a4a7-f28b-4dc5-9176-be95dbaab3dd",
   "metadata": {},
   "outputs": [
    {
     "data": {
      "text/plain": [
       "True"
      ]
     },
     "execution_count": 38,
     "metadata": {},
     "output_type": "execute_result"
    }
   ],
   "source": [
    "str1.endswith(\"lls\")"
   ]
  },
  {
   "cell_type": "code",
   "execution_count": 39,
   "id": "f43ea11e-faa9-482f-9769-ca9a326a2062",
   "metadata": {},
   "outputs": [
    {
     "data": {
      "text/plain": [
       "True"
      ]
     },
     "execution_count": 39,
     "metadata": {},
     "output_type": "execute_result"
    }
   ],
   "source": [
    "a = \"123abc\"\n",
    "a.isalnum()"
   ]
  },
  {
   "cell_type": "code",
   "execution_count": 40,
   "id": "456d0bd3-81e7-49a7-be2f-4906d482d9f1",
   "metadata": {},
   "outputs": [
    {
     "data": {
      "text/plain": [
       "True"
      ]
     },
     "execution_count": 40,
     "metadata": {},
     "output_type": "execute_result"
    }
   ],
   "source": [
    "a = \"Abs\"\n",
    "a.isalnum()"
   ]
  },
  {
   "cell_type": "code",
   "execution_count": null,
   "id": "5388756c-f87e-4f54-9e40-f810c8da13a2",
   "metadata": {},
   "outputs": [],
   "source": []
  }
 ],
 "metadata": {
  "kernelspec": {
   "display_name": "Python 3 (ipykernel)",
   "language": "python",
   "name": "python3"
  },
  "language_info": {
   "codemirror_mode": {
    "name": "ipython",
    "version": 3
   },
   "file_extension": ".py",
   "mimetype": "text/x-python",
   "name": "python",
   "nbconvert_exporter": "python",
   "pygments_lexer": "ipython3",
   "version": "3.10.8"
  }
 },
 "nbformat": 4,
 "nbformat_minor": 5
}
